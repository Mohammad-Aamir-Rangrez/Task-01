{
 "cells": [
  {
   "cell_type": "markdown",
   "id": "62ac862f",
   "metadata": {},
   "source": [
    "# GRIP - The Spark Foundation- Data Science & Business Analytics Internship Jun- 2023\n",
    "# Prediction using Supervised Machine Learnings\n",
    "# Auther:- Mohammad Aamir Rangrez"
   ]
  },
  {
   "cell_type": "markdown",
   "id": "ebe065f0",
   "metadata": {},
   "source": [
    "# **Table of Contents:**\n",
    "* Introduction\n",
    "* Import Libraries\n",
    "* Getting the Data\n",
    "* Data Exploration/Analysis\n",
    "* Data Preprocessing\n",
    "    - Missing Data\n",
    "    - Graph using Null\n",
    "* Data viualization with scatter plots\n",
    "* Preparing the training data for Linear Regression\n",
    "    - Splitting the dataset from training the testing\n",
    "    - Training Linear Regresion Model\n",
    "* Prediction Scores\n",
    "    - Evaluating Train and test scores\n",
    "* Comparing actual Score and Predict Score\n",
    "\t- Training data Scores vs Predicted Scores\n",
    "    - Testing data Scores vs Predicted Scores \n",
    "* Model Evaluation on Test Sample\n",
    "    - Mean Absolute Error\n",
    "\t- Root Mean Square Error\n",
    "\t- T-Test\n",
    "\t- F-Test\n",
    "* Submission \n",
    "\t- Predictions\n",
    "\t- Alternate way to calculate \n",
    "* Summary"
   ]
  },
  {
   "cell_type": "markdown",
   "id": "e73d3bc5",
   "metadata": {},
   "source": [
    "# Task 1"
   ]
  },
  {
   "cell_type": "markdown",
   "id": "3295ad23",
   "metadata": {},
   "source": [
    "## Q: What is Supervised Machine Learning..?\n",
    "\n",
    "* There is 4 type of Machine learning\n",
    "    - Supervised\n",
    "    - Unsupervised\n",
    "    - Semi-Supervised\n",
    "    - Reinforement\n",
    "* Supervised Learning \n",
    "Supervised learning is when the model is getting trained on a labelled dataset. A labelled dataset is one that has both input and output parameters. In this type of learning both training and validation, datasets are labelled\n",
    "\n",
    "\n",
    "* There is two type of Supervised Learning \n",
    "    - Classification\n",
    "            - K-Nearest Neighbor\n",
    "            - Naive Bayes\n",
    "            - Descision Tree\n",
    "            - Support Vector Machine\n",
    "            - Logistic Regression\n",
    "    - Regression\n",
    "            - Linear Regression\n",
    "            - Support Vector Regression\n",
    "            - Decision Trees\n",
    "            - Gaussian Progresses Regression\n",
    "            - Ensemble Methods"
   ]
  },
  {
   "cell_type": "markdown",
   "id": "ec5cda6f",
   "metadata": {},
   "source": [
    "# To predict the score of a student who studies for 9.25 hrs/ day"
   ]
  },
  {
   "cell_type": "markdown",
   "id": "828ac5a1",
   "metadata": {},
   "source": [
    "# Importing libraries"
   ]
  },
  {
   "cell_type": "markdown",
   "id": "d03b9a44",
   "metadata": {},
   "source": [
    "PANDAS,NUMPY for data manuplation.\n",
    "\n",
    "Matplotlib,seaborn module for Data Visualisation.\n",
    "\n",
    "sklearn for modelling"
   ]
  },
  {
   "cell_type": "markdown",
   "id": "0b7b717a",
   "metadata": {},
   "source": [
    "# Importing Libraries "
   ]
  },
  {
   "cell_type": "code",
   "execution_count": 1,
   "id": "51ded922",
   "metadata": {},
   "outputs": [],
   "source": [
    "import pandas as pd\n",
    "import numpy as np\n",
    "import matplotlib.pyplot as plt\n",
    "import seaborn as sns\n",
    "%matplotlib inline\n",
    "from sklearn.model_selection import train_test_split\n",
    "from sklearn.linear_model import LinearRegression\n",
    "from sklearn import metrics"
   ]
  },
  {
   "cell_type": "markdown",
   "id": "69e84b3e",
   "metadata": {},
   "source": [
    "# Importing data set"
   ]
  },
  {
   "cell_type": "code",
   "execution_count": 2,
   "id": "3d616f1d",
   "metadata": {},
   "outputs": [],
   "source": [
    "url = \"https://bit.ly/w-data\"\n",
    "scores = pd.read_csv(url)"
   ]
  },
  {
   "cell_type": "code",
   "execution_count": 3,
   "id": "df1f826c",
   "metadata": {},
   "outputs": [
    {
     "name": "stdout",
     "output_type": "stream",
     "text": [
      "first 5 element of the given dataset\n"
     ]
    },
    {
     "data": {
      "text/html": [
       "<div>\n",
       "<style scoped>\n",
       "    .dataframe tbody tr th:only-of-type {\n",
       "        vertical-align: middle;\n",
       "    }\n",
       "\n",
       "    .dataframe tbody tr th {\n",
       "        vertical-align: top;\n",
       "    }\n",
       "\n",
       "    .dataframe thead th {\n",
       "        text-align: right;\n",
       "    }\n",
       "</style>\n",
       "<table border=\"1\" class=\"dataframe\">\n",
       "  <thead>\n",
       "    <tr style=\"text-align: right;\">\n",
       "      <th></th>\n",
       "      <th>Hours</th>\n",
       "      <th>Scores</th>\n",
       "    </tr>\n",
       "  </thead>\n",
       "  <tbody>\n",
       "    <tr>\n",
       "      <th>0</th>\n",
       "      <td>2.5</td>\n",
       "      <td>21</td>\n",
       "    </tr>\n",
       "    <tr>\n",
       "      <th>1</th>\n",
       "      <td>5.1</td>\n",
       "      <td>47</td>\n",
       "    </tr>\n",
       "    <tr>\n",
       "      <th>2</th>\n",
       "      <td>3.2</td>\n",
       "      <td>27</td>\n",
       "    </tr>\n",
       "    <tr>\n",
       "      <th>3</th>\n",
       "      <td>8.5</td>\n",
       "      <td>75</td>\n",
       "    </tr>\n",
       "    <tr>\n",
       "      <th>4</th>\n",
       "      <td>3.5</td>\n",
       "      <td>30</td>\n",
       "    </tr>\n",
       "  </tbody>\n",
       "</table>\n",
       "</div>"
      ],
      "text/plain": [
       "   Hours  Scores\n",
       "0    2.5      21\n",
       "1    5.1      47\n",
       "2    3.2      27\n",
       "3    8.5      75\n",
       "4    3.5      30"
      ]
     },
     "execution_count": 3,
     "metadata": {},
     "output_type": "execute_result"
    }
   ],
   "source": [
    "print(\"first 5 element of the given dataset\")\n",
    "scores.head()"
   ]
  },
  {
   "cell_type": "code",
   "execution_count": 4,
   "id": "e913c644",
   "metadata": {},
   "outputs": [
    {
     "name": "stdout",
     "output_type": "stream",
     "text": [
      "shape of the dataset ---> (25, 2)\n",
      "Columns name ---> Index(['Hours', 'Scores'], dtype='object')\n",
      "columns Datatype--> Hours     float64\n",
      "Scores      int64\n",
      "dtype: object\n"
     ]
    }
   ],
   "source": [
    "print('shape of the dataset --->',scores.shape)\n",
    "print(\"Columns name --->\", scores.columns)\n",
    "print(\"columns Datatype-->\", scores.dtypes)\n",
    "\n"
   ]
  },
  {
   "cell_type": "markdown",
   "id": "a1d00fe4",
   "metadata": {},
   "source": [
    "# Exploratory Analysis of the DataSet"
   ]
  },
  {
   "cell_type": "code",
   "execution_count": 5,
   "id": "fda9e342",
   "metadata": {},
   "outputs": [
    {
     "data": {
      "text/html": [
       "<div>\n",
       "<style scoped>\n",
       "    .dataframe tbody tr th:only-of-type {\n",
       "        vertical-align: middle;\n",
       "    }\n",
       "\n",
       "    .dataframe tbody tr th {\n",
       "        vertical-align: top;\n",
       "    }\n",
       "\n",
       "    .dataframe thead th {\n",
       "        text-align: right;\n",
       "    }\n",
       "</style>\n",
       "<table border=\"1\" class=\"dataframe\">\n",
       "  <thead>\n",
       "    <tr style=\"text-align: right;\">\n",
       "      <th></th>\n",
       "      <th>Hours</th>\n",
       "      <th>Scores</th>\n",
       "    </tr>\n",
       "  </thead>\n",
       "  <tbody>\n",
       "    <tr>\n",
       "      <th>count</th>\n",
       "      <td>25.000000</td>\n",
       "      <td>25.000000</td>\n",
       "    </tr>\n",
       "    <tr>\n",
       "      <th>mean</th>\n",
       "      <td>5.012000</td>\n",
       "      <td>51.480000</td>\n",
       "    </tr>\n",
       "    <tr>\n",
       "      <th>std</th>\n",
       "      <td>2.525094</td>\n",
       "      <td>25.286887</td>\n",
       "    </tr>\n",
       "    <tr>\n",
       "      <th>min</th>\n",
       "      <td>1.100000</td>\n",
       "      <td>17.000000</td>\n",
       "    </tr>\n",
       "    <tr>\n",
       "      <th>25%</th>\n",
       "      <td>2.700000</td>\n",
       "      <td>30.000000</td>\n",
       "    </tr>\n",
       "    <tr>\n",
       "      <th>50%</th>\n",
       "      <td>4.800000</td>\n",
       "      <td>47.000000</td>\n",
       "    </tr>\n",
       "    <tr>\n",
       "      <th>75%</th>\n",
       "      <td>7.400000</td>\n",
       "      <td>75.000000</td>\n",
       "    </tr>\n",
       "    <tr>\n",
       "      <th>max</th>\n",
       "      <td>9.200000</td>\n",
       "      <td>95.000000</td>\n",
       "    </tr>\n",
       "  </tbody>\n",
       "</table>\n",
       "</div>"
      ],
      "text/plain": [
       "           Hours     Scores\n",
       "count  25.000000  25.000000\n",
       "mean    5.012000  51.480000\n",
       "std     2.525094  25.286887\n",
       "min     1.100000  17.000000\n",
       "25%     2.700000  30.000000\n",
       "50%     4.800000  47.000000\n",
       "75%     7.400000  75.000000\n",
       "max     9.200000  95.000000"
      ]
     },
     "execution_count": 5,
     "metadata": {},
     "output_type": "execute_result"
    }
   ],
   "source": [
    "scores.describe()"
   ]
  },
  {
   "cell_type": "markdown",
   "id": "83533e63",
   "metadata": {},
   "source": [
    "# missing values"
   ]
  },
  {
   "cell_type": "code",
   "execution_count": 6,
   "id": "c19e8ef0",
   "metadata": {},
   "outputs": [
    {
     "data": {
      "text/plain": [
       "Hours     0\n",
       "Scores    0\n",
       "dtype: int64"
      ]
     },
     "execution_count": 6,
     "metadata": {},
     "output_type": "execute_result"
    }
   ],
   "source": [
    "scores.isnull().sum()"
   ]
  },
  {
   "cell_type": "code",
   "execution_count": 7,
   "id": "215c702b",
   "metadata": {},
   "outputs": [
    {
     "data": {
      "text/plain": [
       "<AxesSubplot:>"
      ]
     },
     "execution_count": 7,
     "metadata": {},
     "output_type": "execute_result"
    },
    {
     "data": {
      "image/png": "[encoded data removed]",
      "text/plain": [
       "<Figure size 432x288 with 1 Axes>"
      ]
     },
     "metadata": {
      "needs_background": "light"
     },
     "output_type": "display_data"
    }
   ],
   "source": [
    "sns.heatmap(scores.isnull(), cbar=False)"
   ]
  },
  {
   "cell_type": "markdown",
   "id": "0874d12a",
   "metadata": {},
   "source": [
    "Observation\n",
    "        \n",
    "           There is no missing value in tis dataset"
   ]
  },
  {
   "cell_type": "code",
   "execution_count": 8,
   "id": "308a0e0b",
   "metadata": {},
   "outputs": [
    {
     "data": {
      "text/html": [
       "<div>\n",
       "<style scoped>\n",
       "    .dataframe tbody tr th:only-of-type {\n",
       "        vertical-align: middle;\n",
       "    }\n",
       "\n",
       "    .dataframe tbody tr th {\n",
       "        vertical-align: top;\n",
       "    }\n",
       "\n",
       "    .dataframe thead th {\n",
       "        text-align: right;\n",
       "    }\n",
       "</style>\n",
       "<table border=\"1\" class=\"dataframe\">\n",
       "  <thead>\n",
       "    <tr style=\"text-align: right;\">\n",
       "      <th></th>\n",
       "      <th>Hours</th>\n",
       "      <th>Scores</th>\n",
       "    </tr>\n",
       "  </thead>\n",
       "  <tbody>\n",
       "    <tr>\n",
       "      <th>0.01</th>\n",
       "      <td>1.196</td>\n",
       "      <td>17.72</td>\n",
       "    </tr>\n",
       "    <tr>\n",
       "      <th>0.05</th>\n",
       "      <td>1.580</td>\n",
       "      <td>20.20</td>\n",
       "    </tr>\n",
       "    <tr>\n",
       "      <th>0.10</th>\n",
       "      <td>2.140</td>\n",
       "      <td>22.20</td>\n",
       "    </tr>\n",
       "    <tr>\n",
       "      <th>0.15</th>\n",
       "      <td>2.500</td>\n",
       "      <td>24.60</td>\n",
       "    </tr>\n",
       "    <tr>\n",
       "      <th>0.25</th>\n",
       "      <td>2.700</td>\n",
       "      <td>30.00</td>\n",
       "    </tr>\n",
       "    <tr>\n",
       "      <th>0.50</th>\n",
       "      <td>4.800</td>\n",
       "      <td>47.00</td>\n",
       "    </tr>\n",
       "    <tr>\n",
       "      <th>0.80</th>\n",
       "      <td>7.720</td>\n",
       "      <td>77.00</td>\n",
       "    </tr>\n",
       "    <tr>\n",
       "      <th>0.85</th>\n",
       "      <td>8.000</td>\n",
       "      <td>82.60</td>\n",
       "    </tr>\n",
       "    <tr>\n",
       "      <th>0.90</th>\n",
       "      <td>8.420</td>\n",
       "      <td>85.60</td>\n",
       "    </tr>\n",
       "    <tr>\n",
       "      <th>0.95</th>\n",
       "      <td>8.820</td>\n",
       "      <td>87.60</td>\n",
       "    </tr>\n",
       "    <tr>\n",
       "      <th>0.99</th>\n",
       "      <td>9.128</td>\n",
       "      <td>93.32</td>\n",
       "    </tr>\n",
       "    <tr>\n",
       "      <th>1.00</th>\n",
       "      <td>9.200</td>\n",
       "      <td>95.00</td>\n",
       "    </tr>\n",
       "  </tbody>\n",
       "</table>\n",
       "</div>"
      ],
      "text/plain": [
       "      Hours  Scores\n",
       "0.01  1.196   17.72\n",
       "0.05  1.580   20.20\n",
       "0.10  2.140   22.20\n",
       "0.15  2.500   24.60\n",
       "0.25  2.700   30.00\n",
       "0.50  4.800   47.00\n",
       "0.80  7.720   77.00\n",
       "0.85  8.000   82.60\n",
       "0.90  8.420   85.60\n",
       "0.95  8.820   87.60\n",
       "0.99  9.128   93.32\n",
       "1.00  9.200   95.00"
      ]
     },
     "execution_count": 8,
     "metadata": {},
     "output_type": "execute_result"
    }
   ],
   "source": [
    "scores.quantile([0.01,.05,.10,.15,.25,0.50,0.80,0.85,0.9,0.95,.99,1])"
   ]
  },
  {
   "cell_type": "code",
   "execution_count": 9,
   "id": "96ebcbe9",
   "metadata": {},
   "outputs": [
    {
     "data": {
      "text/plain": [
       "<AxesSubplot:>"
      ]
     },
     "execution_count": 9,
     "metadata": {},
     "output_type": "execute_result"
    },
    {
     "data": {
      "image/png": "[encoded data removed]",
      "text/plain": [
       "<Figure size 432x288 with 1 Axes>"
      ]
     },
     "metadata": {
      "needs_background": "light"
     },
     "output_type": "display_data"
    }
   ],
   "source": [
    "scores.boxplot(['Scores'])"
   ]
  },
  {
   "cell_type": "code",
   "execution_count": 10,
   "id": "852fe530",
   "metadata": {},
   "outputs": [
    {
     "data": {
      "text/plain": [
       "<AxesSubplot:>"
      ]
     },
     "execution_count": 10,
     "metadata": {},
     "output_type": "execute_result"
    },
    {
     "data": {
      "image/png": "[encoded data removed]",
      "text/plain": [
       "<Figure size 432x288 with 1 Axes>"
      ]
     },
     "metadata": {
      "needs_background": "light"
     },
     "output_type": "display_data"
    }
   ],
   "source": [
    "scores.boxplot([\"Hours\"])\n"
   ]
  },
  {
   "cell_type": "code",
   "execution_count": 11,
   "id": "51d38e49",
   "metadata": {},
   "outputs": [
    {
     "name": "stderr",
     "output_type": "stream",
     "text": [
      "C:\\ProgramData\\Anaconda3\\lib\\site-packages\\seaborn\\distributions.py:2619: FutureWarning: `distplot` is a deprecated function and will be removed in a future version. Please adapt your code to use either `displot` (a figure-level function with similar flexibility) or `histplot` (an axes-level function for histograms).\n",
      "  warnings.warn(msg, FutureWarning)\n"
     ]
    },
    {
     "data": {
      "image/png": "[encoded data removed]",
      "text/plain": [
       "<Figure size 432x288 with 1 Axes>"
      ]
     },
     "metadata": {
      "needs_background": "light"
     },
     "output_type": "display_data"
    }
   ],
   "source": [
    "sns.distplot(scores['Scores'], bins=10)\n",
    "plt.show()"
   ]
  },
  {
   "cell_type": "code",
   "execution_count": 12,
   "id": "1e2eefb4",
   "metadata": {},
   "outputs": [
    {
     "data": {
      "text/plain": [
       "<AxesSubplot:>"
      ]
     },
     "execution_count": 12,
     "metadata": {},
     "output_type": "execute_result"
    },
    {
     "data": {
      "image/png": "[encoded data removed]",
      "text/plain": [
       "<Figure size 432x288 with 2 Axes>"
      ]
     },
     "metadata": {
      "needs_background": "light"
     },
     "output_type": "display_data"
    }
   ],
   "source": [
    "sns.heatmap(scores.corr(),annot=True)"
   ]
  },
  {
   "cell_type": "markdown",
   "id": "4b8e1344",
   "metadata": {},
   "source": [
    "Hours and Scores are highly Positively correlated to each other"
   ]
  },
  {
   "cell_type": "markdown",
   "id": "66cc5b0a",
   "metadata": {},
   "source": [
    "# Data viualization with scatter plots"
   ]
  },
  {
   "cell_type": "code",
   "execution_count": 13,
   "id": "2ca7f6cb",
   "metadata": {},
   "outputs": [
    {
     "data": {
      "image/png": "[encoded data removed]",
      "text/plain": [
       "<Figure size 432x288 with 1 Axes>"
      ]
     },
     "metadata": {
      "needs_background": "light"
     },
     "output_type": "display_data"
    }
   ],
   "source": [
    "scores.plot(x='Hours', y = 'Scores',style = '+',color='green')\n",
    "plt.xlabel('Hours')\n",
    "plt.ylabel('Scores')\n",
    "plt.show()"
   ]
  },
  {
   "cell_type": "markdown",
   "id": "5f769c9a",
   "metadata": {},
   "source": [
    "There is linear relationship between the umebr of hours and scores"
   ]
  },
  {
   "cell_type": "markdown",
   "id": "6328f9a6",
   "metadata": {},
   "source": [
    "# Preparing the training data for Linear Regression"
   ]
  },
  {
   "cell_type": "markdown",
   "id": "3250c76a",
   "metadata": {},
   "source": [
    "Independent variable = Number of hours studied\n",
    "\n",
    "Dependent variable = Scores obtained"
   ]
  },
  {
   "cell_type": "code",
   "execution_count": 14,
   "id": "cb848bd0",
   "metadata": {},
   "outputs": [],
   "source": [
    "x = scores.drop(\"Scores\",axis=1)\n",
    "y = scores['Scores']"
   ]
  },
  {
   "cell_type": "markdown",
   "id": "81be2998",
   "metadata": {},
   "source": [
    "# Splitting the dataset from training the testing  "
   ]
  },
  {
   "cell_type": "code",
   "execution_count": 15,
   "id": "0c40ec41",
   "metadata": {},
   "outputs": [],
   "source": [
    "x_train, x_test, y_train, y_test = train_test_split(x, y, test_size = 0.3, random_state = 2)"
   ]
  },
  {
   "cell_type": "code",
   "execution_count": 16,
   "id": "9d907d31",
   "metadata": {},
   "outputs": [
    {
     "name": "stdout",
     "output_type": "stream",
     "text": [
      "(17, 1)\n",
      "(17,)\n",
      "(8, 1)\n",
      "(8,)\n"
     ]
    }
   ],
   "source": [
    "print(x_train.shape)\n",
    "print(y_train.shape)\n",
    "print(x_test.shape)\n",
    "print(y_test.shape)"
   ]
  },
  {
   "cell_type": "markdown",
   "id": "0c5b925f",
   "metadata": {},
   "source": [
    "# Training Linear Regression Model"
   ]
  },
  {
   "cell_type": "code",
   "execution_count": 17,
   "id": "edf3769c",
   "metadata": {},
   "outputs": [
    {
     "data": {
      "text/plain": [
       "LinearRegression()"
      ]
     },
     "execution_count": 17,
     "metadata": {},
     "output_type": "execute_result"
    }
   ],
   "source": [
    "scores_reg = LinearRegression()\n",
    "scores_reg.fit(x_train, y_train)"
   ]
  },
  {
   "cell_type": "markdown",
   "id": "9257b935",
   "metadata": {},
   "source": [
    "# Prediction Scores"
   ]
  },
  {
   "cell_type": "code",
   "execution_count": 18,
   "id": "3956f51d",
   "metadata": {},
   "outputs": [
    {
     "data": {
      "text/plain": [
       "array([11.02900268, 25.62801721, 19.3712967 , 95.49472962, 71.51063432,\n",
       "       27.71359072, 88.19522235, 25.62801721])"
      ]
     },
     "execution_count": 18,
     "metadata": {},
     "output_type": "execute_result"
    }
   ],
   "source": [
    "y_pred = scores_reg.predict(x_test)\n",
    "y_pred"
   ]
  },
  {
   "cell_type": "markdown",
   "id": "c034bc9a",
   "metadata": {},
   "source": [
    "# Evaluating Train and test scores "
   ]
  },
  {
   "cell_type": "code",
   "execution_count": 19,
   "id": "26fb1e0b",
   "metadata": {},
   "outputs": [
    {
     "name": "stdout",
     "output_type": "stream",
     "text": [
      "Training Score :  0.9496868783142939\n",
      "Test score:  0.9420584734434517\n"
     ]
    }
   ],
   "source": [
    "print('Training Score : ', scores_reg.score(x_train, y_train))\n",
    "print('Test score: ', scores_reg.score(x_test,y_test))"
   ]
  },
  {
   "cell_type": "markdown",
   "id": "7c3d90d4",
   "metadata": {},
   "source": [
    "\n",
    "# comparing Actul Score and predict Score"
   ]
  },
  {
   "cell_type": "code",
   "execution_count": 20,
   "id": "e27b981c",
   "metadata": {},
   "outputs": [
    {
     "name": "stdout",
     "output_type": "stream",
     "text": [
      "    Actual Score  preicted Score   Residual\n",
      "14            17       11.029003   5.970997\n",
      "0             21       25.628017  -4.628017\n",
      "17            24       19.371297   4.628703\n",
      "6             88       95.494730  -7.494730\n",
      "23            76       71.510634   4.489366\n"
     ]
    }
   ],
   "source": [
    "output = pd.DataFrame({'Actual Score':y_test,'preicted Score': y_pred, ' Residual': y_test-y_pred})\n",
    "print(output.head())"
   ]
  },
  {
   "cell_type": "markdown",
   "id": "e27ef9da",
   "metadata": {},
   "source": [
    "# To visualize the differences between actual score and predicted score "
   ]
  },
  {
   "cell_type": "markdown",
   "id": "9b80a52b",
   "metadata": {},
   "source": [
    "# a) Training data Scores vs Predicted Scores "
   ]
  },
  {
   "cell_type": "code",
   "execution_count": 21,
   "id": "c2508c72",
   "metadata": {},
   "outputs": [
    {
     "data": {
      "image/png": "[encoded data removed]",
      "text/plain": [
       "<Figure size 432x288 with 1 Axes>"
      ]
     },
     "metadata": {
      "needs_background": "light"
     },
     "output_type": "display_data"
    }
   ],
   "source": [
    "plt.scatter(x_train,y_train, color= 'green')\n",
    "plt.plot(x_train, scores_reg.predict(x_train), color= 'red')\n",
    "plt.title(\"hours vs Scores\")\n",
    "plt.xlabel('Hours')\n",
    "plt.ylabel('Scores')\n",
    "plt.show()"
   ]
  },
  {
   "cell_type": "markdown",
   "id": "418238b3",
   "metadata": {},
   "source": [
    "# b) Testing data Scores vs Predicted Scores "
   ]
  },
  {
   "cell_type": "code",
   "execution_count": 22,
   "id": "35f80bd0",
   "metadata": {},
   "outputs": [
    {
     "data": {
      "image/png": "[encoded data removed]",
      "text/plain": [
       "<Figure size 432x288 with 1 Axes>"
      ]
     },
     "metadata": {
      "needs_background": "light"
     },
     "output_type": "display_data"
    }
   ],
   "source": [
    "x = y_test\n",
    "y = y_pred\n",
    "plt.scatter(x,y)\n",
    "plt.xlabel(\"Actual Scores: Y\")\n",
    "plt.ylabel(\"Predicted Scores: Y^\")\n",
    "plt.title(\"Actual Scores vs Prdited Scores \")\n",
    "\n",
    "z = np.polyfit(x,y,1)\n",
    "p = np.poly1d(z)\n",
    "plt.plot(x,p(x),\"r--\")\n",
    "plt.show()"
   ]
  },
  {
   "cell_type": "markdown",
   "id": "dad8c51a",
   "metadata": {},
   "source": [
    "# Model Evaluation on test sample"
   ]
  },
  {
   "cell_type": "markdown",
   "id": "8e5cd9ae",
   "metadata": {},
   "source": [
    "# Mean Absolute Error"
   ]
  },
  {
   "cell_type": "code",
   "execution_count": 23,
   "id": "b56dcc57",
   "metadata": {},
   "outputs": [
    {
     "name": "stdout",
     "output_type": "stream",
     "text": [
      "Mean absolute error:  5.936576124243742\n"
     ]
    }
   ],
   "source": [
    "print('Mean absolute error: ', metrics.mean_absolute_error(y_test, y_pred))"
   ]
  },
  {
   "cell_type": "markdown",
   "id": "fef094b6",
   "metadata": {},
   "source": [
    "# Root Mean Square Error"
   ]
  },
  {
   "cell_type": "code",
   "execution_count": 24,
   "id": "e25c447b",
   "metadata": {},
   "outputs": [
    {
     "name": "stdout",
     "output_type": "stream",
     "text": [
      "Root mean square error:  6.665333111498132\n"
     ]
    }
   ],
   "source": [
    "print('Root mean square error: ', np.sqrt(metrics.mean_squared_error(y_test, y_pred)))"
   ]
  },
  {
   "cell_type": "code",
   "execution_count": 25,
   "id": "9a947dc8",
   "metadata": {},
   "outputs": [
    {
     "data": {
      "text/plain": [
       "0.9420584734434517"
      ]
     },
     "execution_count": 25,
     "metadata": {},
     "output_type": "execute_result"
    }
   ],
   "source": [
    "metrics.r2_score(y_test,y_pred)"
   ]
  },
  {
   "cell_type": "markdown",
   "id": "755819d4",
   "metadata": {},
   "source": [
    "# T-test"
   ]
  },
  {
   "cell_type": "code",
   "execution_count": 26,
   "id": "fa5d1b6b",
   "metadata": {},
   "outputs": [
    {
     "name": "stdout",
     "output_type": "stream",
     "text": [
      "t-statistic --> -0.06749127427810271\n",
      "P-value -->  0.9471450243074203\n"
     ]
    }
   ],
   "source": [
    "from scipy import stats\n",
    "t_statistic, pvalues = stats.ttest_ind(y_test, y_pred)\n",
    "print('t-statistic -->', t_statistic)\n",
    "print('P-value --> ', pvalues)"
   ]
  },
  {
   "cell_type": "markdown",
   "id": "add710c2",
   "metadata": {},
   "source": [
    "# F-Test "
   ]
  },
  {
   "cell_type": "code",
   "execution_count": 27,
   "id": "9dee1598",
   "metadata": {},
   "outputs": [
    {
     "name": "stdout",
     "output_type": "stream",
     "text": [
      "f-statistic -->  0.004555072103682067\n",
      "P-value -->  0.9471450243074162\n"
     ]
    }
   ],
   "source": [
    "f_statistic, pvalues = stats.f_oneway(y_test, y_pred)\n",
    "print('f-statistic --> ', f_statistic)\n",
    "print('P-value --> ',pvalues)"
   ]
  },
  {
   "cell_type": "markdown",
   "id": "04de758a",
   "metadata": {},
   "source": [
    "# What will be predicted score if a student study for 9.25 hrs in a days?"
   ]
  },
  {
   "cell_type": "code",
   "execution_count": 28,
   "id": "206dd2a4",
   "metadata": {},
   "outputs": [
    {
     "name": "stdout",
     "output_type": "stream",
     "text": [
      "Number of hours = 9.25\n",
      "Predicted scores = 96.01612299632009\n"
     ]
    }
   ],
   "source": [
    "study_hrs = 9.25\n",
    "score_pred = scores_reg.predict([[study_hrs]])\n",
    "print(\"Number of hours = {}\".format(study_hrs))\n",
    "print(\"Predicted scores = {}\".format(score_pred[0]))"
   ]
  },
  {
   "cell_type": "markdown",
   "id": "30ac9f19",
   "metadata": {},
   "source": [
    "# Alterntive way to calculate the score of the student "
   ]
  },
  {
   "cell_type": "markdown",
   "id": "41c627e6",
   "metadata": {},
   "source": [
    "using the formul  y = mx + c  where m = coeffiecient , c = intercept"
   ]
  },
  {
   "cell_type": "code",
   "execution_count": 29,
   "id": "04a1b46d",
   "metadata": {},
   "outputs": [
    {
     "data": {
      "text/plain": [
       "array([96.016123])"
      ]
     },
     "execution_count": 29,
     "metadata": {},
     "output_type": "execute_result"
    }
   ],
   "source": [
    "y = scores_reg.coef_*9.25 + scores_reg.intercept_\n",
    "y"
   ]
  },
  {
   "cell_type": "code",
   "execution_count": 30,
   "id": "736b3a15",
   "metadata": {},
   "outputs": [
    {
     "name": "stdout",
     "output_type": "stream",
     "text": [
      "    Hours\n",
      "14    1.1\n",
      "0     2.5\n",
      "17    1.9\n",
      "6     9.2\n",
      "23    6.9\n",
      "9     2.7\n",
      "3     8.5\n",
      "16    2.5\n"
     ]
    }
   ],
   "source": [
    "print(x_test)"
   ]
  },
  {
   "cell_type": "code",
   "execution_count": 31,
   "id": "f838c5f2",
   "metadata": {},
   "outputs": [
    {
     "name": "stdout",
     "output_type": "stream",
     "text": [
      "14    17\n",
      "0     21\n",
      "17    24\n",
      "6     88\n",
      "23    76\n",
      "9     25\n",
      "3     75\n",
      "16    30\n",
      "Name: Scores, dtype: int64\n"
     ]
    }
   ],
   "source": [
    "print(y_test)"
   ]
  },
  {
   "cell_type": "code",
   "execution_count": 32,
   "id": "320fb10d",
   "metadata": {},
   "outputs": [
    {
     "data": {
      "text/plain": [
       "array([11.02900268, 25.62801721, 19.3712967 , 95.49472962, 71.51063432,\n",
       "       27.71359072, 88.19522235, 25.62801721])"
      ]
     },
     "execution_count": 32,
     "metadata": {},
     "output_type": "execute_result"
    }
   ],
   "source": [
    "y_pred"
   ]
  },
  {
   "cell_type": "code",
   "execution_count": 33,
   "id": "b2a6cce0",
   "metadata": {},
   "outputs": [
    {
     "data": {
      "text/html": [
       "<div>\n",
       "<style scoped>\n",
       "    .dataframe tbody tr th:only-of-type {\n",
       "        vertical-align: middle;\n",
       "    }\n",
       "\n",
       "    .dataframe tbody tr th {\n",
       "        vertical-align: top;\n",
       "    }\n",
       "\n",
       "    .dataframe thead th {\n",
       "        text-align: right;\n",
       "    }\n",
       "</style>\n",
       "<table border=\"1\" class=\"dataframe\">\n",
       "  <thead>\n",
       "    <tr style=\"text-align: right;\">\n",
       "      <th></th>\n",
       "      <th>Actual</th>\n",
       "      <th>predicted</th>\n",
       "    </tr>\n",
       "  </thead>\n",
       "  <tbody>\n",
       "    <tr>\n",
       "      <th>0</th>\n",
       "      <td>14    17\n",
       "0     21\n",
       "17    24\n",
       "6     88\n",
       "23    76\n",
       "9...</td>\n",
       "      <td>[11.029002681968452, 25.628017214495113, 19.37...</td>\n",
       "    </tr>\n",
       "  </tbody>\n",
       "</table>\n",
       "</div>"
      ],
      "text/plain": [
       "                                              Actual  \\\n",
       "0  14    17\n",
       "0     21\n",
       "17    24\n",
       "6     88\n",
       "23    76\n",
       "9...   \n",
       "\n",
       "                                           predicted  \n",
       "0  [11.029002681968452, 25.628017214495113, 19.37...  "
      ]
     },
     "execution_count": 33,
     "metadata": {},
     "output_type": "execute_result"
    }
   ],
   "source": [
    "comp = pd.DataFrame({'Actual': [y_test],'predicted':[y_pred]})\n",
    "comp"
   ]
  },
  {
   "cell_type": "markdown",
   "id": "80d50d9e",
   "metadata": {},
   "source": [
    "# Now we can see the actual and predicted."
   ]
  },
  {
   "cell_type": "markdown",
   "id": "d676fc55",
   "metadata": {},
   "source": [
    "# Thanks....:)"
   ]
  }
 ],
 "metadata": {
  "kernelspec": {
   "display_name": "Python 3 (ipykernel)",
   "language": "python",
   "name": "python3"
  },
  "language_info": {
   "codemirror_mode": {
    "name": "ipython",
    "version": 3
   },
   "file_extension": ".py",
   "mimetype": "text/x-python",
   "name": "python",
   "nbconvert_exporter": "python",
   "pygments_lexer": "ipython3",
   "version": "3.9.7"
  }
 },
 "nbformat": 4,
 "nbformat_minor": 5
}
